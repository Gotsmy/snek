{
 "cells": [
  {
   "cell_type": "code",
   "execution_count": 1,
   "metadata": {},
   "outputs": [
    {
     "data": {
      "text/plain": [
       "'/home/mgotsmy/anaconda3/bin/python'"
      ]
     },
     "execution_count": 1,
     "metadata": {},
     "output_type": "execute_result"
    }
   ],
   "source": [
    "import sys\n",
    "sys.executable"
   ]
  },
  {
   "cell_type": "markdown",
   "metadata": {
    "tags": []
   },
   "source": [
    "# Snek Demo"
   ]
  },
  {
   "cell_type": "markdown",
   "metadata": {},
   "source": [
    "Snek is developed to improve upon the original cobra package by making it easier to access and less prone for unintended errors."
   ]
  },
  {
   "cell_type": "code",
   "execution_count": 1,
   "metadata": {},
   "outputs": [
    {
     "ename": "ModuleNotFoundError",
     "evalue": "No module named 'snek'",
     "output_type": "error",
     "traceback": [
      "\u001b[0;31m---------------------------------------------------------------------------\u001b[0m",
      "\u001b[0;31mModuleNotFoundError\u001b[0m                       Traceback (most recent call last)",
      "\u001b[0;32m<ipython-input-1-a076996e5179>\u001b[0m in \u001b[0;36m<module>\u001b[0;34m\u001b[0m\n\u001b[1;32m      1\u001b[0m \u001b[0;32mimport\u001b[0m \u001b[0mcobra\u001b[0m\u001b[0;34m\u001b[0m\u001b[0;34m\u001b[0m\u001b[0m\n\u001b[0;32m----> 2\u001b[0;31m \u001b[0;32mimport\u001b[0m \u001b[0msnek\u001b[0m\u001b[0;34m\u001b[0m\u001b[0;34m\u001b[0m\u001b[0m\n\u001b[0m\u001b[1;32m      3\u001b[0m \u001b[0mmodel\u001b[0m \u001b[0;34m=\u001b[0m \u001b[0mcobra\u001b[0m\u001b[0;34m.\u001b[0m\u001b[0mio\u001b[0m\u001b[0;34m.\u001b[0m\u001b[0mload_model\u001b[0m\u001b[0;34m(\u001b[0m\u001b[0;34m'textbook'\u001b[0m\u001b[0;34m)\u001b[0m\u001b[0;34m\u001b[0m\u001b[0;34m\u001b[0m\u001b[0m\n\u001b[1;32m      4\u001b[0m \u001b[0;34m\u001b[0m\u001b[0m\n\u001b[1;32m      5\u001b[0m \u001b[0;32mdef\u001b[0m \u001b[0mprinter\u001b[0m\u001b[0;34m(\u001b[0m\u001b[0mx\u001b[0m\u001b[0;34m)\u001b[0m\u001b[0;34m:\u001b[0m\u001b[0;34m\u001b[0m\u001b[0;34m\u001b[0m\u001b[0m\n",
      "\u001b[0;31mModuleNotFoundError\u001b[0m: No module named 'snek'"
     ]
    }
   ],
   "source": [
    "import cobra \n",
    "import snek\n",
    "model = cobra.io.load_model('textbook')\n",
    "\n",
    "def printer(x):\n",
    "    print('{:5.2f}'.format(x))"
   ]
  },
  {
   "cell_type": "markdown",
   "metadata": {},
   "source": [
    "## 1. Ensure Correct Spelling"
   ]
  },
  {
   "cell_type": "markdown",
   "metadata": {},
   "source": [
    "When setting bounds of a reaction or the objective function with the main CobraPy package, no error is raised when a spelling error occurs."
   ]
  },
  {
   "cell_type": "code",
   "execution_count": 2,
   "metadata": {},
   "outputs": [
    {
     "name": "stdout",
     "output_type": "stream",
     "text": [
      " 0.42\n",
      " 0.42\n"
     ]
    }
   ],
   "source": [
    "with model:\n",
    "    model.reactions.EX_glc__D_e.lower_bound = -5\n",
    "    printer(model.slim_optimize())\n",
    "    model.reactions.EX_glc__D_e.lower_buond = -10\n",
    "    # no error is raised but bound is not updated.\n",
    "    printer(model.slim_optimize())"
   ]
  },
  {
   "cell_type": "markdown",
   "metadata": {},
   "source": [
    "This can happen frequently and is hard to debug. Also, the officially recommended way of setting exchange bounds needs 3 lines instead of 1."
   ]
  },
  {
   "cell_type": "code",
   "execution_count": 3,
   "metadata": {},
   "outputs": [
    {
     "name": "stdout",
     "output_type": "stream",
     "text": [
      " 0.42\n",
      " 0.87\n"
     ]
    }
   ],
   "source": [
    "with model:\n",
    "    medium = model.medium\n",
    "    medium[\"EX_glc__D_e\"] = 5\n",
    "    model.medium = medium\n",
    "    printer(model.slim_optimize())\n",
    "    medium[\"EX_glc__D_e\"] = 10\n",
    "    model.medium = medium\n",
    "    printer(model.slim_optimize())"
   ]
  },
  {
   "cell_type": "markdown",
   "metadata": {},
   "source": [
    "The following snek.core functions ensure correct spelling and are still one-liners for efficient coding."
   ]
  },
  {
   "cell_type": "code",
   "execution_count": 4,
   "metadata": {},
   "outputs": [
    {
     "name": "stdout",
     "output_type": "stream",
     "text": [
      " 0.42\n",
      " 0.87\n"
     ]
    }
   ],
   "source": [
    "with model:\n",
    "    snek.set_bounds(model,'EX_glc__D_e',-5)\n",
    "    printer(model.slim_optimize())\n",
    "    snek.set_bounds(model,'EX_glc__D_e',-10)\n",
    "    printer(model.slim_optimize())"
   ]
  },
  {
   "cell_type": "markdown",
   "metadata": {},
   "source": [
    "The same issue can arise when trying to change the objective function of a model."
   ]
  },
  {
   "cell_type": "code",
   "execution_count": 5,
   "metadata": {},
   "outputs": [
    {
     "name": "stdout",
     "output_type": "stream",
     "text": [
      " 0.87\n",
      " 0.87\n",
      "20.00\n"
     ]
    }
   ],
   "source": [
    "with model:\n",
    "    printer(model.slim_optimize())\n",
    "    model.objctive = 'EX_etoh_e'\n",
    "    # no error is raised but objective function is not updated.\n",
    "    printer(model.slim_optimize())\n",
    "    snek.set_objective(model,'EX_etoh_e','max')\n",
    "    printer(model.slim_optimize())"
   ]
  },
  {
   "cell_type": "markdown",
   "metadata": {},
   "source": [
    "## 2. Check for Unintended Results."
   ]
  },
  {
   "cell_type": "markdown",
   "metadata": {},
   "source": [
    "CobraPy gives the user a lot of freedom. However, here we implemented some basic checks that ensure that no unintended are made and prints warning if this is true.\n",
    "This logical errors are sometimes intended, therefore only warnings are printed but the objective function is still updated. \n",
    "However, we think that a more verbose output can help researchers when exploring the model."
   ]
  },
  {
   "cell_type": "code",
   "execution_count": 6,
   "metadata": {},
   "outputs": [
    {
     "name": "stderr",
     "output_type": "stream",
     "text": [
      "WARNING:root:The objective reaction has a lower bound at 8.39 and a upper bound at 1000.00. This could lead to problems during optimization.\n"
     ]
    },
    {
     "name": "stdout",
     "output_type": "stream",
     "text": [
      " 8.39\n",
      " 8.39\n"
     ]
    }
   ],
   "source": [
    "with model:\n",
    "    model.objective = 'ATPM'\n",
    "    model.objective_direction = 'min'\n",
    "    printer(model.slim_optimize())\n",
    "    # here we try to minimize a reaction with a custom lower bound\n",
    "    # although this might be intended, it often isn't.\n",
    "    snek.set_objective(model,'ATPM','min')\n",
    "    printer(model.slim_optimize())"
   ]
  },
  {
   "cell_type": "markdown",
   "metadata": {},
   "source": [
    "When the solution status is infeasible it is still possible to programmatically extract fluxes. This can lead to confusions while coding."
   ]
  },
  {
   "cell_type": "code",
   "execution_count": 7,
   "metadata": {},
   "outputs": [
    {
     "name": "stdout",
     "output_type": "stream",
     "text": [
      "infeasible\n",
      "-0.48\n"
     ]
    },
    {
     "name": "stderr",
     "output_type": "stream",
     "text": [
      "/home/users/mgotsmy/.conda/envs/2206test3.10/lib/python3.10/site-packages/cobra/util/solver.py:554: UserWarning: Solver status is 'infeasible'.\n",
      "  warn(f\"Solver status is '{status}'.\", UserWarning)\n"
     ]
    }
   ],
   "source": [
    "with model:\n",
    "    snek.set_bounds(model,'EX_glc__D_e',0,0)\n",
    "    solution = model.optimize()\n",
    "    print(solution.status)\n",
    "    printer(solution.fluxes['EX_glc__D_e'])"
   ]
  },
  {
   "cell_type": "markdown",
   "metadata": {},
   "source": [
    "The snek optimization function checks for infeasibility and raises an error, so no confusions can happen."
   ]
  },
  {
   "cell_type": "code",
   "execution_count": 8,
   "metadata": {},
   "outputs": [
    {
     "name": "stderr",
     "output_type": "stream",
     "text": [
      "/home/users/mgotsmy/.conda/envs/2206test3.10/lib/python3.10/site-packages/cobra/util/solver.py:554: UserWarning: Solver status is 'infeasible'.\n",
      "  warn(f\"Solver status is '{status}'.\", UserWarning)\n",
      "ERROR:root:Solution status is infeasible.\n"
     ]
    },
    {
     "ename": "TypeError",
     "evalue": "exceptions must derive from BaseException",
     "output_type": "error",
     "traceback": [
      "\u001b[0;31m---------------------------------------------------------------------------\u001b[0m",
      "\u001b[0;31mTypeError\u001b[0m                                 Traceback (most recent call last)",
      "Input \u001b[0;32mIn [8]\u001b[0m, in \u001b[0;36m<cell line: 1>\u001b[0;34m()\u001b[0m\n\u001b[1;32m      1\u001b[0m \u001b[38;5;28;01mwith\u001b[39;00m model:\n\u001b[1;32m      2\u001b[0m     snek\u001b[38;5;241m.\u001b[39mset_bounds(model,\u001b[38;5;124m'\u001b[39m\u001b[38;5;124mEX_glc__D_e\u001b[39m\u001b[38;5;124m'\u001b[39m,\u001b[38;5;241m0\u001b[39m,\u001b[38;5;241m0\u001b[39m)\n\u001b[0;32m----> 3\u001b[0m     solution \u001b[38;5;241m=\u001b[39m \u001b[43msnek\u001b[49m\u001b[38;5;241;43m.\u001b[39;49m\u001b[43msensitive_optimize\u001b[49m\u001b[43m(\u001b[49m\u001b[43mmodel\u001b[49m\u001b[43m)\u001b[49m\n\u001b[1;32m      4\u001b[0m     \u001b[38;5;28mprint\u001b[39m(solution\u001b[38;5;241m.\u001b[39mstatus)\n\u001b[1;32m      5\u001b[0m     printer(solution\u001b[38;5;241m.\u001b[39mfluxes[\u001b[38;5;124m'\u001b[39m\u001b[38;5;124mEX_glc__D_e\u001b[39m\u001b[38;5;124m'\u001b[39m])\n",
      "File \u001b[0;32m~/.conda/envs/2206test3.10/lib/python3.10/site-packages/snek-0.2-py3.10.egg/snek/core.py:125\u001b[0m, in \u001b[0;36msensitive_optimize\u001b[0;34m(model, pFBA)\u001b[0m\n\u001b[1;32m    123\u001b[0m     solution \u001b[38;5;241m=\u001b[39m model\u001b[38;5;241m.\u001b[39moptimize()\n\u001b[1;32m    124\u001b[0m \u001b[38;5;28;01mif\u001b[39;00m solution\u001b[38;5;241m.\u001b[39mstatus \u001b[38;5;241m==\u001b[39m \u001b[38;5;124m'\u001b[39m\u001b[38;5;124minfeasible\u001b[39m\u001b[38;5;124m'\u001b[39m:\n\u001b[0;32m--> 125\u001b[0m     \u001b[38;5;28;01mraise\u001b[39;00m logging\u001b[38;5;241m.\u001b[39merror(\u001b[38;5;124mf\u001b[39m\u001b[38;5;124m'\u001b[39m\u001b[38;5;124mSolution status is \u001b[39m\u001b[38;5;132;01m{\u001b[39;00msolution\u001b[38;5;241m.\u001b[39mstatus\u001b[38;5;132;01m}\u001b[39;00m\u001b[38;5;124m.\u001b[39m\u001b[38;5;124m'\u001b[39m)\n\u001b[1;32m    126\u001b[0m \u001b[38;5;28;01melse\u001b[39;00m:\n\u001b[1;32m    127\u001b[0m     \u001b[38;5;28;01mreturn\u001b[39;00m solution\n",
      "\u001b[0;31mTypeError\u001b[0m: exceptions must derive from BaseException"
     ]
    }
   ],
   "source": [
    "with model:\n",
    "    snek.set_bounds(model,'EX_glc__D_e',0,0)\n",
    "    solution = snek.sensitive_optimize(model)\n",
    "    print(solution.status)\n",
    "    printer(solution.fluxes['EX_glc__D_e'])"
   ]
  },
  {
   "cell_type": "markdown",
   "metadata": {},
   "source": [
    "## 3. Easy Programmatic Access"
   ]
  },
  {
   "cell_type": "markdown",
   "metadata": {},
   "source": [
    "Some functionalities can be set very easily by strings, however, when you want the value that was entered returned you get a programmatically hard to deal with object back."
   ]
  },
  {
   "cell_type": "code",
   "execution_count": 9,
   "metadata": {},
   "outputs": [
    {
     "name": "stdout",
     "output_type": "stream",
     "text": [
      "\\ENCODING=ISO-8859-1\n",
      "\\Problem name: \n",
      "\n",
      "Maximize\n",
      " b2ff9840m076fm11edm935cmc581d07a87a9#0: Biomass_Ecol \n",
      "\n",
      "...\n",
      " \n",
      " 0 <= TKT2_reverse_7ebc7#187 <= 1000\n",
      " 0 <= TPI#188 <= 1000\n",
      " 0 <= TPI_reverse_c2c3b#189 <= 1000\n",
      "End\n",
      "\n"
     ]
    }
   ],
   "source": [
    "with model:\n",
    "    model.solver = 'cplex'\n",
    "    print(str(model.solver)[:100],'\\n\\n...\\n',str(model.solver)[-100:])"
   ]
  },
  {
   "cell_type": "markdown",
   "metadata": {},
   "source": [
    "compared to "
   ]
  },
  {
   "cell_type": "code",
   "execution_count": 10,
   "metadata": {},
   "outputs": [
    {
     "name": "stdout",
     "output_type": "stream",
     "text": [
      "cplex\n"
     ]
    }
   ],
   "source": [
    "with model:\n",
    "    model.solver = 'cplex'\n",
    "    print(snek.get_solver(model))"
   ]
  },
  {
   "cell_type": "markdown",
   "metadata": {},
   "source": [
    "The same is implemented for (simple) objectives:"
   ]
  },
  {
   "cell_type": "code",
   "execution_count": 11,
   "metadata": {},
   "outputs": [
    {
     "name": "stdout",
     "output_type": "stream",
     "text": [
      "1.0*Biomass_Ecoli_core - 1.0*Biomass_Ecoli_core_reverse_2cdba\n"
     ]
    }
   ],
   "source": [
    "with model:\n",
    "    model.objective = 'Biomass_Ecoli_core'\n",
    "    print(str(model.objective.expression))"
   ]
  },
  {
   "cell_type": "markdown",
   "metadata": {},
   "source": [
    "compared to "
   ]
  },
  {
   "cell_type": "code",
   "execution_count": 12,
   "metadata": {},
   "outputs": [
    {
     "name": "stdout",
     "output_type": "stream",
     "text": [
      "Biomass_Ecoli_core\n"
     ]
    }
   ],
   "source": [
    "with model:\n",
    "    model.objective = 'Biomass_Ecoli_core'\n",
    "    print(snek.get_objective(model))"
   ]
  },
  {
   "cell_type": "markdown",
   "metadata": {},
   "source": [
    "The summary command calculates the C fluxes, however they cannot be easily programmatically accessed."
   ]
  },
  {
   "cell_type": "code",
   "execution_count": 13,
   "metadata": {},
   "outputs": [
    {
     "data": {
      "text/html": [
       "<h3>Objective</h3><p>1.0 Biomass_Ecoli_core = 0.8739215069684301</p><h4>Uptake</h4><table border=\"1\" class=\"dataframe\">\n",
       "  <thead>\n",
       "    <tr style=\"text-align: right;\">\n",
       "      <th>Metabolite</th>\n",
       "      <th>Reaction</th>\n",
       "      <th>Flux</th>\n",
       "      <th>C-Number</th>\n",
       "      <th>C-Flux</th>\n",
       "    </tr>\n",
       "  </thead>\n",
       "  <tbody>\n",
       "    <tr>\n",
       "      <td>glc__D_e</td>\n",
       "      <td>EX_glc__D_e</td>\n",
       "      <td>10</td>\n",
       "      <td>6</td>\n",
       "      <td>100.00%</td>\n",
       "    </tr>\n",
       "    <tr>\n",
       "      <td>nh4_e</td>\n",
       "      <td>EX_nh4_e</td>\n",
       "      <td>4.765</td>\n",
       "      <td>0</td>\n",
       "      <td>0.00%</td>\n",
       "    </tr>\n",
       "    <tr>\n",
       "      <td>o2_e</td>\n",
       "      <td>EX_o2_e</td>\n",
       "      <td>21.8</td>\n",
       "      <td>0</td>\n",
       "      <td>0.00%</td>\n",
       "    </tr>\n",
       "    <tr>\n",
       "      <td>pi_e</td>\n",
       "      <td>EX_pi_e</td>\n",
       "      <td>3.215</td>\n",
       "      <td>0</td>\n",
       "      <td>0.00%</td>\n",
       "    </tr>\n",
       "  </tbody>\n",
       "</table><h4>Secretion</h4><table border=\"1\" class=\"dataframe\">\n",
       "  <thead>\n",
       "    <tr style=\"text-align: right;\">\n",
       "      <th>Metabolite</th>\n",
       "      <th>Reaction</th>\n",
       "      <th>Flux</th>\n",
       "      <th>C-Number</th>\n",
       "      <th>C-Flux</th>\n",
       "    </tr>\n",
       "  </thead>\n",
       "  <tbody>\n",
       "    <tr>\n",
       "      <td>co2_e</td>\n",
       "      <td>EX_co2_e</td>\n",
       "      <td>-22.81</td>\n",
       "      <td>1</td>\n",
       "      <td>100.00%</td>\n",
       "    </tr>\n",
       "    <tr>\n",
       "      <td>h2o_e</td>\n",
       "      <td>EX_h2o_e</td>\n",
       "      <td>-29.18</td>\n",
       "      <td>0</td>\n",
       "      <td>0.00%</td>\n",
       "    </tr>\n",
       "    <tr>\n",
       "      <td>h_e</td>\n",
       "      <td>EX_h_e</td>\n",
       "      <td>-17.53</td>\n",
       "      <td>0</td>\n",
       "      <td>0.00%</td>\n",
       "    </tr>\n",
       "  </tbody>\n",
       "</table>"
      ],
      "text/plain": [
       "<cobra.summary.model_summary.ModelSummary at 0x7fdfb5ba0df0>"
      ]
     },
     "execution_count": 13,
     "metadata": {},
     "output_type": "execute_result"
    }
   ],
   "source": [
    "with model:\n",
    "    summary = model.summary()\n",
    "summary"
   ]
  },
  {
   "cell_type": "code",
   "execution_count": 14,
   "metadata": {},
   "outputs": [
    {
     "data": {
      "text/html": [
       "<div>\n",
       "<style scoped>\n",
       "    .dataframe tbody tr th:only-of-type {\n",
       "        vertical-align: middle;\n",
       "    }\n",
       "\n",
       "    .dataframe tbody tr th {\n",
       "        vertical-align: top;\n",
       "    }\n",
       "\n",
       "    .dataframe thead th {\n",
       "        text-align: right;\n",
       "    }\n",
       "</style>\n",
       "<table border=\"1\" class=\"dataframe\">\n",
       "  <thead>\n",
       "    <tr style=\"text-align: right;\">\n",
       "      <th></th>\n",
       "      <th>flux</th>\n",
       "      <th>reaction</th>\n",
       "      <th>metabolite</th>\n",
       "    </tr>\n",
       "  </thead>\n",
       "  <tbody>\n",
       "    <tr>\n",
       "      <th>EX_glc__D_e</th>\n",
       "      <td>10.000000</td>\n",
       "      <td>EX_glc__D_e</td>\n",
       "      <td>glc__D_e</td>\n",
       "    </tr>\n",
       "    <tr>\n",
       "      <th>EX_nh4_e</th>\n",
       "      <td>4.765319</td>\n",
       "      <td>EX_nh4_e</td>\n",
       "      <td>nh4_e</td>\n",
       "    </tr>\n",
       "    <tr>\n",
       "      <th>EX_o2_e</th>\n",
       "      <td>21.799493</td>\n",
       "      <td>EX_o2_e</td>\n",
       "      <td>o2_e</td>\n",
       "    </tr>\n",
       "    <tr>\n",
       "      <th>EX_pi_e</th>\n",
       "      <td>3.214895</td>\n",
       "      <td>EX_pi_e</td>\n",
       "      <td>pi_e</td>\n",
       "    </tr>\n",
       "  </tbody>\n",
       "</table>\n",
       "</div>"
      ],
      "text/plain": [
       "                  flux     reaction metabolite\n",
       "EX_glc__D_e  10.000000  EX_glc__D_e   glc__D_e\n",
       "EX_nh4_e      4.765319     EX_nh4_e      nh4_e\n",
       "EX_o2_e      21.799493      EX_o2_e       o2_e\n",
       "EX_pi_e       3.214895      EX_pi_e       pi_e"
      ]
     },
     "execution_count": 14,
     "metadata": {},
     "output_type": "execute_result"
    }
   ],
   "source": [
    "summary.uptake_flux\n",
    "# the C-flux is gone"
   ]
  },
  {
   "cell_type": "markdown",
   "metadata": {},
   "source": [
    "With the ``snek.elements`` module the element wise fluxes can easily be accessed. Moreover, all non mass-balanced fluxes + their absolut values are included."
   ]
  },
  {
   "cell_type": "code",
   "execution_count": 15,
   "metadata": {},
   "outputs": [
    {
     "data": {
      "text/html": [
       "<div>\n",
       "<style scoped>\n",
       "    .dataframe tbody tr th:only-of-type {\n",
       "        vertical-align: middle;\n",
       "    }\n",
       "\n",
       "    .dataframe tbody tr th {\n",
       "        vertical-align: top;\n",
       "    }\n",
       "\n",
       "    .dataframe thead th {\n",
       "        text-align: right;\n",
       "    }\n",
       "</style>\n",
       "<table border=\"1\" class=\"dataframe\">\n",
       "  <thead>\n",
       "    <tr style=\"text-align: right;\">\n",
       "      <th></th>\n",
       "      <th>C_flux</th>\n",
       "      <th>C_flux%</th>\n",
       "    </tr>\n",
       "  </thead>\n",
       "  <tbody>\n",
       "    <tr>\n",
       "      <th>EX_glc__D_e</th>\n",
       "      <td>60.000000</td>\n",
       "      <td>100.000000</td>\n",
       "    </tr>\n",
       "    <tr>\n",
       "      <th>EX_co2_e</th>\n",
       "      <td>-22.809833</td>\n",
       "      <td>-38.016389</td>\n",
       "    </tr>\n",
       "    <tr>\n",
       "      <th>Biomass_Ecoli_core</th>\n",
       "      <td>-37.190167</td>\n",
       "      <td>-61.983611</td>\n",
       "    </tr>\n",
       "  </tbody>\n",
       "</table>\n",
       "</div>"
      ],
      "text/plain": [
       "                       C_flux     C_flux%\n",
       "EX_glc__D_e         60.000000  100.000000\n",
       "EX_co2_e           -22.809833  -38.016389\n",
       "Biomass_Ecoli_core -37.190167  -61.983611"
      ]
     },
     "execution_count": 15,
     "metadata": {},
     "output_type": "execute_result"
    }
   ],
   "source": [
    "snek.elements.element_fluxes(model,'C')"
   ]
  },
  {
   "cell_type": "markdown",
   "metadata": {},
   "source": [
    "Moreover, not only C fluxes can be accessed. "
   ]
  },
  {
   "cell_type": "code",
   "execution_count": 16,
   "metadata": {},
   "outputs": [
    {
     "data": {
      "text/html": [
       "<div>\n",
       "<style scoped>\n",
       "    .dataframe tbody tr th:only-of-type {\n",
       "        vertical-align: middle;\n",
       "    }\n",
       "\n",
       "    .dataframe tbody tr th {\n",
       "        vertical-align: top;\n",
       "    }\n",
       "\n",
       "    .dataframe thead th {\n",
       "        text-align: right;\n",
       "    }\n",
       "</style>\n",
       "<table border=\"1\" class=\"dataframe\">\n",
       "  <thead>\n",
       "    <tr style=\"text-align: right;\">\n",
       "      <th></th>\n",
       "      <th>H_flux</th>\n",
       "      <th>H_flux%</th>\n",
       "    </tr>\n",
       "  </thead>\n",
       "  <tbody>\n",
       "    <tr>\n",
       "      <th>EX_glc__D_e</th>\n",
       "      <td>120.000000</td>\n",
       "      <td>84.343006</td>\n",
       "    </tr>\n",
       "    <tr>\n",
       "      <th>EX_nh4_e</th>\n",
       "      <td>19.061277</td>\n",
       "      <td>13.397378</td>\n",
       "    </tr>\n",
       "    <tr>\n",
       "      <th>EX_pi_e</th>\n",
       "      <td>3.214895</td>\n",
       "      <td>2.259616</td>\n",
       "    </tr>\n",
       "    <tr>\n",
       "      <th>EX_h_e</th>\n",
       "      <td>-17.530865</td>\n",
       "      <td>-12.321716</td>\n",
       "    </tr>\n",
       "    <tr>\n",
       "      <th>EX_h2o_e</th>\n",
       "      <td>-58.351654</td>\n",
       "      <td>-41.012949</td>\n",
       "    </tr>\n",
       "    <tr>\n",
       "      <th>Biomass_Ecoli_core</th>\n",
       "      <td>-66.393652</td>\n",
       "      <td>-46.665335</td>\n",
       "    </tr>\n",
       "  </tbody>\n",
       "</table>\n",
       "</div>"
      ],
      "text/plain": [
       "                        H_flux    H_flux%\n",
       "EX_glc__D_e         120.000000  84.343006\n",
       "EX_nh4_e             19.061277  13.397378\n",
       "EX_pi_e               3.214895   2.259616\n",
       "EX_h_e              -17.530865 -12.321716\n",
       "EX_h2o_e            -58.351654 -41.012949\n",
       "Biomass_Ecoli_core  -66.393652 -46.665335"
      ]
     },
     "execution_count": 16,
     "metadata": {},
     "output_type": "execute_result"
    }
   ],
   "source": [
    "snek.elements.element_fluxes(model,'H')"
   ]
  },
  {
   "cell_type": "markdown",
   "metadata": {},
   "source": [
    "``snek.elements`` also give easier access to molecular weight calculations:"
   ]
  },
  {
   "cell_type": "code",
   "execution_count": 17,
   "metadata": {},
   "outputs": [
    {
     "name": "stdout",
     "output_type": "stream",
     "text": [
      "180.16\n",
      "180.16\n"
     ]
    }
   ],
   "source": [
    "some_metabolite = cobra.Metabolite()\n",
    "some_metabolite.formula = 'C6H12O6'\n",
    "printer(some_metabolite.formula_weight)\n",
    "\n",
    "printer(snek.elements.molecular_weight('C6H12O6'))"
   ]
  },
  {
   "cell_type": "markdown",
   "metadata": {},
   "source": [
    "Compared to cobraPy's model.summary(), snek returns sorted data frames with the sign of reactions fluxes not the metabolite fluxes. (I guess this is a preference issue.)"
   ]
  },
  {
   "cell_type": "code",
   "execution_count": 18,
   "metadata": {},
   "outputs": [
    {
     "data": {
      "text/html": [
       "<div>\n",
       "<style scoped>\n",
       "    .dataframe tbody tr th:only-of-type {\n",
       "        vertical-align: middle;\n",
       "    }\n",
       "\n",
       "    .dataframe tbody tr th {\n",
       "        vertical-align: top;\n",
       "    }\n",
       "\n",
       "    .dataframe thead th {\n",
       "        text-align: right;\n",
       "    }\n",
       "</style>\n",
       "<table border=\"1\" class=\"dataframe\">\n",
       "  <thead>\n",
       "    <tr style=\"text-align: right;\">\n",
       "      <th></th>\n",
       "      <th>flux</th>\n",
       "      <th>reaction</th>\n",
       "      <th>metabolite</th>\n",
       "    </tr>\n",
       "  </thead>\n",
       "  <tbody>\n",
       "    <tr>\n",
       "      <th>EX_glc__D_e</th>\n",
       "      <td>10.000000</td>\n",
       "      <td>EX_glc__D_e</td>\n",
       "      <td>glc__D_e</td>\n",
       "    </tr>\n",
       "    <tr>\n",
       "      <th>EX_nh4_e</th>\n",
       "      <td>4.765319</td>\n",
       "      <td>EX_nh4_e</td>\n",
       "      <td>nh4_e</td>\n",
       "    </tr>\n",
       "    <tr>\n",
       "      <th>EX_o2_e</th>\n",
       "      <td>21.799493</td>\n",
       "      <td>EX_o2_e</td>\n",
       "      <td>o2_e</td>\n",
       "    </tr>\n",
       "    <tr>\n",
       "      <th>EX_pi_e</th>\n",
       "      <td>3.214895</td>\n",
       "      <td>EX_pi_e</td>\n",
       "      <td>pi_e</td>\n",
       "    </tr>\n",
       "  </tbody>\n",
       "</table>\n",
       "</div>"
      ],
      "text/plain": [
       "                  flux     reaction metabolite\n",
       "EX_glc__D_e  10.000000  EX_glc__D_e   glc__D_e\n",
       "EX_nh4_e      4.765319     EX_nh4_e      nh4_e\n",
       "EX_o2_e      21.799493      EX_o2_e       o2_e\n",
       "EX_pi_e       3.214895      EX_pi_e       pi_e"
      ]
     },
     "execution_count": 18,
     "metadata": {},
     "output_type": "execute_result"
    }
   ],
   "source": [
    "summary = model.summary()\n",
    "summary.uptake_flux"
   ]
  },
  {
   "cell_type": "code",
   "execution_count": 19,
   "metadata": {},
   "outputs": [
    {
     "data": {
      "text/html": [
       "<div>\n",
       "<style scoped>\n",
       "    .dataframe tbody tr th:only-of-type {\n",
       "        vertical-align: middle;\n",
       "    }\n",
       "\n",
       "    .dataframe tbody tr th {\n",
       "        vertical-align: top;\n",
       "    }\n",
       "\n",
       "    .dataframe thead th {\n",
       "        text-align: right;\n",
       "    }\n",
       "</style>\n",
       "<table border=\"1\" class=\"dataframe\">\n",
       "  <thead>\n",
       "    <tr style=\"text-align: right;\">\n",
       "      <th></th>\n",
       "      <th>name</th>\n",
       "      <th>id</th>\n",
       "      <th>flux</th>\n",
       "    </tr>\n",
       "  </thead>\n",
       "  <tbody>\n",
       "    <tr>\n",
       "      <th>EX_o2_e</th>\n",
       "      <td>O2 exchange</td>\n",
       "      <td>EX_o2_e</td>\n",
       "      <td>-21.799493</td>\n",
       "    </tr>\n",
       "    <tr>\n",
       "      <th>EX_glc__D_e</th>\n",
       "      <td>D-Glucose exchange</td>\n",
       "      <td>EX_glc__D_e</td>\n",
       "      <td>-10.0</td>\n",
       "    </tr>\n",
       "    <tr>\n",
       "      <th>EX_nh4_e</th>\n",
       "      <td>Ammonia exchange</td>\n",
       "      <td>EX_nh4_e</td>\n",
       "      <td>-4.765319</td>\n",
       "    </tr>\n",
       "    <tr>\n",
       "      <th>EX_pi_e</th>\n",
       "      <td>Phosphate exchange</td>\n",
       "      <td>EX_pi_e</td>\n",
       "      <td>-3.214895</td>\n",
       "    </tr>\n",
       "  </tbody>\n",
       "</table>\n",
       "</div>"
      ],
      "text/plain": [
       "                           name           id       flux\n",
       "EX_o2_e             O2 exchange      EX_o2_e -21.799493\n",
       "EX_glc__D_e  D-Glucose exchange  EX_glc__D_e      -10.0\n",
       "EX_nh4_e       Ammonia exchange     EX_nh4_e  -4.765319\n",
       "EX_pi_e      Phosphate exchange      EX_pi_e  -3.214895"
      ]
     },
     "execution_count": 19,
     "metadata": {},
     "output_type": "execute_result"
    }
   ],
   "source": [
    "snek.analysis.in_flux(model)"
   ]
  },
  {
   "cell_type": "markdown",
   "metadata": {},
   "source": [
    "for whatever reason the cobraPy summary.secretion_flux gives also 0 flux values (in contrast to the in_flux):"
   ]
  },
  {
   "cell_type": "code",
   "execution_count": 20,
   "metadata": {},
   "outputs": [
    {
     "data": {
      "text/html": [
       "<div>\n",
       "<style scoped>\n",
       "    .dataframe tbody tr th:only-of-type {\n",
       "        vertical-align: middle;\n",
       "    }\n",
       "\n",
       "    .dataframe tbody tr th {\n",
       "        vertical-align: top;\n",
       "    }\n",
       "\n",
       "    .dataframe thead th {\n",
       "        text-align: right;\n",
       "    }\n",
       "</style>\n",
       "<table border=\"1\" class=\"dataframe\">\n",
       "  <thead>\n",
       "    <tr style=\"text-align: right;\">\n",
       "      <th></th>\n",
       "      <th>flux</th>\n",
       "      <th>reaction</th>\n",
       "      <th>metabolite</th>\n",
       "    </tr>\n",
       "  </thead>\n",
       "  <tbody>\n",
       "    <tr>\n",
       "      <th>EX_ac_e</th>\n",
       "      <td>0.000000</td>\n",
       "      <td>EX_ac_e</td>\n",
       "      <td>ac_e</td>\n",
       "    </tr>\n",
       "    <tr>\n",
       "      <th>EX_acald_e</th>\n",
       "      <td>0.000000</td>\n",
       "      <td>EX_acald_e</td>\n",
       "      <td>acald_e</td>\n",
       "    </tr>\n",
       "    <tr>\n",
       "      <th>EX_akg_e</th>\n",
       "      <td>0.000000</td>\n",
       "      <td>EX_akg_e</td>\n",
       "      <td>akg_e</td>\n",
       "    </tr>\n",
       "    <tr>\n",
       "      <th>EX_co2_e</th>\n",
       "      <td>-22.809833</td>\n",
       "      <td>EX_co2_e</td>\n",
       "      <td>co2_e</td>\n",
       "    </tr>\n",
       "    <tr>\n",
       "      <th>EX_etoh_e</th>\n",
       "      <td>0.000000</td>\n",
       "      <td>EX_etoh_e</td>\n",
       "      <td>etoh_e</td>\n",
       "    </tr>\n",
       "    <tr>\n",
       "      <th>EX_for_e</th>\n",
       "      <td>0.000000</td>\n",
       "      <td>EX_for_e</td>\n",
       "      <td>for_e</td>\n",
       "    </tr>\n",
       "    <tr>\n",
       "      <th>EX_fru_e</th>\n",
       "      <td>0.000000</td>\n",
       "      <td>EX_fru_e</td>\n",
       "      <td>fru_e</td>\n",
       "    </tr>\n",
       "    <tr>\n",
       "      <th>EX_fum_e</th>\n",
       "      <td>0.000000</td>\n",
       "      <td>EX_fum_e</td>\n",
       "      <td>fum_e</td>\n",
       "    </tr>\n",
       "    <tr>\n",
       "      <th>EX_gln__L_e</th>\n",
       "      <td>0.000000</td>\n",
       "      <td>EX_gln__L_e</td>\n",
       "      <td>gln__L_e</td>\n",
       "    </tr>\n",
       "    <tr>\n",
       "      <th>EX_glu__L_e</th>\n",
       "      <td>0.000000</td>\n",
       "      <td>EX_glu__L_e</td>\n",
       "      <td>glu__L_e</td>\n",
       "    </tr>\n",
       "    <tr>\n",
       "      <th>EX_h2o_e</th>\n",
       "      <td>-29.175827</td>\n",
       "      <td>EX_h2o_e</td>\n",
       "      <td>h2o_e</td>\n",
       "    </tr>\n",
       "    <tr>\n",
       "      <th>EX_h_e</th>\n",
       "      <td>-17.530865</td>\n",
       "      <td>EX_h_e</td>\n",
       "      <td>h_e</td>\n",
       "    </tr>\n",
       "    <tr>\n",
       "      <th>EX_lac__D_e</th>\n",
       "      <td>0.000000</td>\n",
       "      <td>EX_lac__D_e</td>\n",
       "      <td>lac__D_e</td>\n",
       "    </tr>\n",
       "    <tr>\n",
       "      <th>EX_mal__L_e</th>\n",
       "      <td>0.000000</td>\n",
       "      <td>EX_mal__L_e</td>\n",
       "      <td>mal__L_e</td>\n",
       "    </tr>\n",
       "    <tr>\n",
       "      <th>EX_pyr_e</th>\n",
       "      <td>0.000000</td>\n",
       "      <td>EX_pyr_e</td>\n",
       "      <td>pyr_e</td>\n",
       "    </tr>\n",
       "    <tr>\n",
       "      <th>EX_succ_e</th>\n",
       "      <td>0.000000</td>\n",
       "      <td>EX_succ_e</td>\n",
       "      <td>succ_e</td>\n",
       "    </tr>\n",
       "  </tbody>\n",
       "</table>\n",
       "</div>"
      ],
      "text/plain": [
       "                  flux     reaction metabolite\n",
       "EX_ac_e       0.000000      EX_ac_e       ac_e\n",
       "EX_acald_e    0.000000   EX_acald_e    acald_e\n",
       "EX_akg_e      0.000000     EX_akg_e      akg_e\n",
       "EX_co2_e    -22.809833     EX_co2_e      co2_e\n",
       "EX_etoh_e     0.000000    EX_etoh_e     etoh_e\n",
       "EX_for_e      0.000000     EX_for_e      for_e\n",
       "EX_fru_e      0.000000     EX_fru_e      fru_e\n",
       "EX_fum_e      0.000000     EX_fum_e      fum_e\n",
       "EX_gln__L_e   0.000000  EX_gln__L_e   gln__L_e\n",
       "EX_glu__L_e   0.000000  EX_glu__L_e   glu__L_e\n",
       "EX_h2o_e    -29.175827     EX_h2o_e      h2o_e\n",
       "EX_h_e      -17.530865       EX_h_e        h_e\n",
       "EX_lac__D_e   0.000000  EX_lac__D_e   lac__D_e\n",
       "EX_mal__L_e   0.000000  EX_mal__L_e   mal__L_e\n",
       "EX_pyr_e      0.000000     EX_pyr_e      pyr_e\n",
       "EX_succ_e     0.000000    EX_succ_e     succ_e"
      ]
     },
     "execution_count": 20,
     "metadata": {},
     "output_type": "execute_result"
    }
   ],
   "source": [
    "summary.secretion_flux"
   ]
  },
  {
   "cell_type": "markdown",
   "metadata": {},
   "source": [
    "``snek.analysis.out_flux`` only returns non-0 fluxes with the sign of reaction fluxes."
   ]
  },
  {
   "cell_type": "code",
   "execution_count": 21,
   "metadata": {},
   "outputs": [
    {
     "data": {
      "text/html": [
       "<div>\n",
       "<style scoped>\n",
       "    .dataframe tbody tr th:only-of-type {\n",
       "        vertical-align: middle;\n",
       "    }\n",
       "\n",
       "    .dataframe tbody tr th {\n",
       "        vertical-align: top;\n",
       "    }\n",
       "\n",
       "    .dataframe thead th {\n",
       "        text-align: right;\n",
       "    }\n",
       "</style>\n",
       "<table border=\"1\" class=\"dataframe\">\n",
       "  <thead>\n",
       "    <tr style=\"text-align: right;\">\n",
       "      <th></th>\n",
       "      <th>name</th>\n",
       "      <th>id</th>\n",
       "      <th>flux</th>\n",
       "    </tr>\n",
       "  </thead>\n",
       "  <tbody>\n",
       "    <tr>\n",
       "      <th>EX_h2o_e</th>\n",
       "      <td>H2O exchange</td>\n",
       "      <td>EX_h2o_e</td>\n",
       "      <td>29.175827</td>\n",
       "    </tr>\n",
       "    <tr>\n",
       "      <th>EX_co2_e</th>\n",
       "      <td>CO2 exchange</td>\n",
       "      <td>EX_co2_e</td>\n",
       "      <td>22.809833</td>\n",
       "    </tr>\n",
       "    <tr>\n",
       "      <th>EX_h_e</th>\n",
       "      <td>H+ exchange</td>\n",
       "      <td>EX_h_e</td>\n",
       "      <td>17.530865</td>\n",
       "    </tr>\n",
       "  </tbody>\n",
       "</table>\n",
       "</div>"
      ],
      "text/plain": [
       "                  name        id       flux\n",
       "EX_h2o_e  H2O exchange  EX_h2o_e  29.175827\n",
       "EX_co2_e  CO2 exchange  EX_co2_e  22.809833\n",
       "EX_h_e     H+ exchange    EX_h_e  17.530865"
      ]
     },
     "execution_count": 21,
     "metadata": {},
     "output_type": "execute_result"
    }
   ],
   "source": [
    "snek.analysis.out_flux(model)"
   ]
  },
  {
   "cell_type": "markdown",
   "metadata": {},
   "source": [
    "## 4. New Functions"
   ]
  },
  {
   "cell_type": "markdown",
   "metadata": {},
   "source": [
    "There are some additional functionalities that are almost always handy. E.g a function that looks for biomass reactions:"
   ]
  },
  {
   "cell_type": "code",
   "execution_count": 22,
   "metadata": {},
   "outputs": [
    {
     "name": "stdout",
     "output_type": "stream",
     "text": [
      "Biomass_Ecoli_core\n"
     ]
    }
   ],
   "source": [
    "snek.find_biomass_reaction(model)"
   ]
  },
  {
   "cell_type": "markdown",
   "metadata": {},
   "source": [
    "Altough there are search functions in CobraPy, here we implemented some easy to use functions to find reactions and metabolites"
   ]
  },
  {
   "cell_type": "code",
   "execution_count": 23,
   "metadata": {},
   "outputs": [
    {
     "data": {
      "text/html": [
       "<div>\n",
       "<style scoped>\n",
       "    .dataframe tbody tr th:only-of-type {\n",
       "        vertical-align: middle;\n",
       "    }\n",
       "\n",
       "    .dataframe tbody tr th {\n",
       "        vertical-align: top;\n",
       "    }\n",
       "\n",
       "    .dataframe thead th {\n",
       "        text-align: right;\n",
       "    }\n",
       "</style>\n",
       "<table border=\"1\" class=\"dataframe\">\n",
       "  <thead>\n",
       "    <tr style=\"text-align: right;\">\n",
       "      <th></th>\n",
       "      <th>id</th>\n",
       "      <th>name</th>\n",
       "    </tr>\n",
       "  </thead>\n",
       "  <tbody>\n",
       "    <tr>\n",
       "      <th>0</th>\n",
       "      <td>EX_glc__D_e</td>\n",
       "      <td>D-Glucose exchange</td>\n",
       "    </tr>\n",
       "    <tr>\n",
       "      <th>1</th>\n",
       "      <td>G6PDH2r</td>\n",
       "      <td>glucose 6-phosphate dehydrogenase</td>\n",
       "    </tr>\n",
       "    <tr>\n",
       "      <th>2</th>\n",
       "      <td>GLCpts</td>\n",
       "      <td>D-glucose transport via PEP:Pyr PTS</td>\n",
       "    </tr>\n",
       "    <tr>\n",
       "      <th>3</th>\n",
       "      <td>PGI</td>\n",
       "      <td>glucose-6-phosphate isomerase</td>\n",
       "    </tr>\n",
       "  </tbody>\n",
       "</table>\n",
       "</div>"
      ],
      "text/plain": [
       "            id                                 name\n",
       "0  EX_glc__D_e                   D-Glucose exchange\n",
       "1      G6PDH2r    glucose 6-phosphate dehydrogenase\n",
       "2       GLCpts  D-glucose transport via PEP:Pyr PTS\n",
       "3          PGI        glucose-6-phosphate isomerase"
      ]
     },
     "execution_count": 23,
     "metadata": {},
     "output_type": "execute_result"
    }
   ],
   "source": [
    "snek.find_reaction(model,'glucose')"
   ]
  },
  {
   "cell_type": "code",
   "execution_count": 24,
   "metadata": {},
   "outputs": [
    {
     "data": {
      "text/html": [
       "<div>\n",
       "<style scoped>\n",
       "    .dataframe tbody tr th:only-of-type {\n",
       "        vertical-align: middle;\n",
       "    }\n",
       "\n",
       "    .dataframe tbody tr th {\n",
       "        vertical-align: top;\n",
       "    }\n",
       "\n",
       "    .dataframe thead th {\n",
       "        text-align: right;\n",
       "    }\n",
       "</style>\n",
       "<table border=\"1\" class=\"dataframe\">\n",
       "  <thead>\n",
       "    <tr style=\"text-align: right;\">\n",
       "      <th></th>\n",
       "      <th>id</th>\n",
       "      <th>name</th>\n",
       "    </tr>\n",
       "  </thead>\n",
       "  <tbody>\n",
       "    <tr>\n",
       "      <th>0</th>\n",
       "      <td>accoa_c</td>\n",
       "      <td>Acetyl-CoA</td>\n",
       "    </tr>\n",
       "    <tr>\n",
       "      <th>1</th>\n",
       "      <td>coa_c</td>\n",
       "      <td>Coenzyme A</td>\n",
       "    </tr>\n",
       "    <tr>\n",
       "      <th>2</th>\n",
       "      <td>succoa_c</td>\n",
       "      <td>Succinyl-CoA</td>\n",
       "    </tr>\n",
       "  </tbody>\n",
       "</table>\n",
       "</div>"
      ],
      "text/plain": [
       "         id          name\n",
       "0   accoa_c    Acetyl-CoA\n",
       "1     coa_c    Coenzyme A\n",
       "2  succoa_c  Succinyl-CoA"
      ]
     },
     "execution_count": 24,
     "metadata": {},
     "output_type": "execute_result"
    }
   ],
   "source": [
    "snek.find_metabolite(model,'coa')"
   ]
  },
  {
   "cell_type": "markdown",
   "metadata": {},
   "source": [
    "Moreover, when opening a new CobraPy model, one usually wants to check if there are unusual (i.e., constrained) bounds. There is no good default functionality."
   ]
  },
  {
   "cell_type": "code",
   "execution_count": 25,
   "metadata": {},
   "outputs": [
    {
     "data": {
      "text/html": [
       "<div>\n",
       "<style scoped>\n",
       "    .dataframe tbody tr th:only-of-type {\n",
       "        vertical-align: middle;\n",
       "    }\n",
       "\n",
       "    .dataframe tbody tr th {\n",
       "        vertical-align: top;\n",
       "    }\n",
       "\n",
       "    .dataframe thead th {\n",
       "        text-align: right;\n",
       "    }\n",
       "</style>\n",
       "<table border=\"1\" class=\"dataframe\">\n",
       "  <thead>\n",
       "    <tr style=\"text-align: right;\">\n",
       "      <th></th>\n",
       "      <th>name</th>\n",
       "      <th>id</th>\n",
       "      <th>lower_bound</th>\n",
       "      <th>upper_bound</th>\n",
       "    </tr>\n",
       "  </thead>\n",
       "  <tbody>\n",
       "    <tr>\n",
       "      <th>ATPM</th>\n",
       "      <td>ATP maintenance requirement</td>\n",
       "      <td>ATPM</td>\n",
       "      <td>8.39</td>\n",
       "      <td>1000.0</td>\n",
       "    </tr>\n",
       "    <tr>\n",
       "      <th>EX_glc__D_e</th>\n",
       "      <td>D-Glucose exchange</td>\n",
       "      <td>EX_glc__D_e</td>\n",
       "      <td>-10.00</td>\n",
       "      <td>1000.0</td>\n",
       "    </tr>\n",
       "  </tbody>\n",
       "</table>\n",
       "</div>"
      ],
      "text/plain": [
       "                                    name           id  lower_bound  \\\n",
       "ATPM         ATP maintenance requirement         ATPM         8.39   \n",
       "EX_glc__D_e           D-Glucose exchange  EX_glc__D_e       -10.00   \n",
       "\n",
       "             upper_bound  \n",
       "ATPM              1000.0  \n",
       "EX_glc__D_e       1000.0  "
      ]
     },
     "execution_count": 25,
     "metadata": {},
     "output_type": "execute_result"
    }
   ],
   "source": [
    "snek.analysis.get_constrained_reactions(model)"
   ]
  },
  {
   "cell_type": "markdown",
   "metadata": {},
   "source": [
    "I think it is nice to be able to look up where fluxes are going, so I implemented a function that shows the local topology of the metabolic network. This basically prints out where metabolites end up at. Numbers are levels of distance to the initial reaction node. Letters are different branches. > denotes metabolites in the reactions. Numbers in parenthesis represent fluxes (reactions) or stoichiometry (metabolites)."
   ]
  },
  {
   "cell_type": "code",
   "execution_count": 26,
   "metadata": {},
   "outputs": [
    {
     "name": "stdout",
     "output_type": "stream",
     "text": [
      "1.A   EX_glc__D_e       (-10.00000)\n",
      "      > glc__D_e        ( -1.0)\n",
      "2.A   GLCpts            (10.00000)\n",
      "      > glc__D_e        ( -1.0)\n",
      "      > pep_c           ( -1.0)\n",
      "      > g6p_c           (  1.0)\n",
      "      > pyr_c           (  1.0)\n"
     ]
    }
   ],
   "source": [
    "solution = snek.sensitive_optimize(model,pFBA=True)\n",
    "\n",
    "snek.analysis.investigate_network_solution(model,solution,'EX_glc__D_e',2)"
   ]
  },
  {
   "cell_type": "markdown",
   "metadata": {},
   "source": [
    "E.g. here, glucose is imported by GLCpts that directly phosphorylates glucose.\n",
    "This function still needs some polishing. It is possible to print nodes with higher distance as well:"
   ]
  },
  {
   "cell_type": "code",
   "execution_count": 27,
   "metadata": {},
   "outputs": [
    {
     "name": "stdout",
     "output_type": "stream",
     "text": [
      "1.A   EX_pi_e           (-3.21490)\n",
      "      > pi_e            ( -1.0)\n",
      "2.A   PIt2r             (3.21490)\n",
      "      > h_e             ( -1.0)\n",
      "      > pi_e            ( -1.0)\n",
      "3.C   CYTBD             (43.59899)\n",
      "      > o2_c            ( -0.5)\n",
      "      > q8h2_c          ( -1.0)\n",
      "      > h_e             (  2.0)\n",
      "      > q8_c            (  1.0)\n",
      "3.G   EX_h_e            (17.53087)\n",
      "      > h_e             ( -1.0)\n",
      "3.I   ATPS4r            (45.51401)\n",
      "      > h_e             ( -4.0)\n",
      "3.K   NADH16            (38.53461)\n",
      "      > nadh_c          ( -1.0)\n",
      "      > q8_c            ( -1.0)\n",
      "      > h_e             (  3.0)\n",
      "      > nad_c           (  1.0)\n",
      "      > q8h2_c          (  1.0)\n",
      "4.D   AKGDH             (5.06438)\n",
      "      > akg_c           ( -1.0)\n",
      "      > coa_c           ( -1.0)\n",
      "      > nad_c           ( -1.0)\n",
      "      > co2_c           (  1.0)\n",
      "      > nadh_c          (  1.0)\n",
      "      > succoa_c        (  1.0)\n",
      "4.E   PDH               (9.28253)\n",
      "      > coa_c           ( -1.0)\n",
      "      > nad_c           ( -1.0)\n",
      "      > pyr_c           ( -1.0)\n",
      "      > accoa_c         (  1.0)\n",
      "      > co2_c           (  1.0)\n",
      "      > nadh_c          (  1.0)\n",
      "4.H   GAPD              (16.02353)\n",
      "      > g3p_c           ( -1.0)\n",
      "      > nad_c           ( -1.0)\n",
      "      > 13dpg_c         (  1.0)\n",
      "      > nadh_c          (  1.0)\n",
      "4.L   O2t               (21.79949)\n",
      "      > o2_e            ( -1.0)\n",
      "      > o2_c            (  1.0)\n",
      "4.U   Biomass_Ecoli_core (0.87392)\n",
      "      > 3pg_c           (-1.496)\n",
      "      > accoa_c         (-3.7478)\n",
      "      > e4p_c           (-0.361)\n",
      "      > f6p_c           (-0.0709)\n",
      "      > g3p_c           (-0.129)\n",
      "      > g6p_c           (-0.205)\n",
      "      > gln__L_c        (-0.2557)\n",
      "      > glu__L_c        (-4.9414)\n",
      "      > nad_c           (-3.547)\n",
      "      > nadph_c         (-13.0279)\n",
      "      > oaa_c           (-1.7867)\n",
      "      > pep_c           (-0.5191)\n",
      "      > pyr_c           (-2.8328)\n",
      "      > r5p_c           (-0.8977)\n",
      "      > akg_c           (4.1182)\n",
      "      > coa_c           (3.7478)\n",
      "      > nadh_c          (3.547)\n",
      "      > nadp_c          (13.0279)\n",
      "4.Z   MDH               (5.06438)\n",
      "      > mal__L_c        ( -1.0)\n",
      "      > nad_c           ( -1.0)\n",
      "      > nadh_c          (  1.0)\n",
      "      > oaa_c           (  1.0)\n",
      "4.AA  SUCDi             (5.06438)\n",
      "      > q8_c            ( -1.0)\n",
      "      > succ_c          ( -1.0)\n",
      "      > fum_c           (  1.0)\n",
      "      > q8h2_c          (  1.0)\n"
     ]
    }
   ],
   "source": [
    "snek.analysis.investigate_network_solution(model,solution,'EX_pi_e',4)"
   ]
  }
 ],
 "metadata": {
  "kernelspec": {
   "display_name": "Python 3",
   "language": "python",
   "name": "python3"
  },
  "language_info": {
   "codemirror_mode": {
    "name": "ipython",
    "version": 3
   },
   "file_extension": ".py",
   "mimetype": "text/x-python",
   "name": "python",
   "nbconvert_exporter": "python",
   "pygments_lexer": "ipython3",
   "version": "3.7.6"
  },
  "toc-autonumbering": false
 },
 "nbformat": 4,
 "nbformat_minor": 5
}
