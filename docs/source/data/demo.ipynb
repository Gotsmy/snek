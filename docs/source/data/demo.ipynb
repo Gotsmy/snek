{
 "cells": [
  {
   "cell_type": "markdown",
   "id": "d2d8e5f7-4520-4101-bd91-24d430fb26e8",
   "metadata": {
    "tags": []
   },
   "source": [
    "# Snek Demo"
   ]
  },
  {
   "cell_type": "markdown",
   "id": "89e2b8f3-5826-4153-882b-d698a57f7cfe",
   "metadata": {},
   "source": [
    "Snek is developed to improve upon the original cobra package by making it easier to access and less prone for unintended errors."
   ]
  },
  {
   "cell_type": "code",
   "execution_count": 1,
   "id": "78f4d399-f68b-46b3-a4e1-3fed712f400a",
   "metadata": {},
   "outputs": [],
   "source": [
    "import cobra \n",
    "import snek\n",
    "model = cobra.io.load_model('textbook')\n",
    "\n",
    "def printer(x):\n",
    "    print('{:5.2f}'.format(x))"
   ]
  },
  {
   "cell_type": "markdown",
   "id": "7a76fec3-c82c-4a54-9fa7-5ebf83372e0a",
   "metadata": {},
   "source": [
    "## 1. Ensure Correct Spelling"
   ]
  },
  {
   "cell_type": "markdown",
   "id": "bacdc1cd-da5e-47a9-8b09-8385004c5fc5",
   "metadata": {},
   "source": [
    "When setting bounds of a reaction or the objective function with the main CobraPy package, no error is raised when a spelling error occurs."
   ]
  },
  {
   "cell_type": "code",
   "execution_count": 2,
   "id": "3b3d1aa2-462c-4fc3-9f40-4adbc85833f3",
   "metadata": {},
   "outputs": [
    {
     "name": "stdout",
     "output_type": "stream",
     "text": [
      " 0.42\n",
      " 0.42\n"
     ]
    }
   ],
   "source": [
    "with model:\n",
    "    model.reactions.EX_glc__D_e.lower_bound = -5\n",
    "    printer(model.slim_optimize())\n",
    "    model.reactions.EX_glc__D_e.lower_buond = -10\n",
    "    # no error is raised but bound is not updated.\n",
    "    printer(model.slim_optimize())"
   ]
  },
  {
   "cell_type": "markdown",
   "id": "966f0f4a-a3ba-48e5-8eb6-8d11377aceb5",
   "metadata": {},
   "source": [
    "This can happen frequently and is hard to debug. Also, the officially recommended way of setting exchange bounds needs 3 lines instead of 1."
   ]
  },
  {
   "cell_type": "code",
   "execution_count": 3,
   "id": "e05bf26b-c6d2-4e5b-8e22-ab59ca4fd0c9",
   "metadata": {},
   "outputs": [
    {
     "name": "stdout",
     "output_type": "stream",
     "text": [
      " 0.42\n",
      " 0.87\n"
     ]
    }
   ],
   "source": [
    "with model:\n",
    "    medium = model.medium\n",
    "    medium[\"EX_glc__D_e\"] = 5\n",
    "    model.medium = medium\n",
    "    printer(model.slim_optimize())\n",
    "    medium[\"EX_glc__D_e\"] = 10\n",
    "    model.medium = medium\n",
    "    printer(model.slim_optimize())"
   ]
  },
  {
   "cell_type": "markdown",
   "id": "c663e848-8861-4c2f-bc3a-6f079559fd59",
   "metadata": {},
   "source": [
    "The following snek.core functions ensure correct spelling and are still one-liners for efficient coding."
   ]
  },
  {
   "cell_type": "code",
   "execution_count": 4,
   "id": "24f5b099-5dbb-4691-b2f2-40a7fe31379d",
   "metadata": {},
   "outputs": [
    {
     "name": "stdout",
     "output_type": "stream",
     "text": [
      " 0.42\n",
      " 0.87\n"
     ]
    }
   ],
   "source": [
    "with model:\n",
    "    model = snek.set_bounds(model,'EX_glc__D_e',-5)\n",
    "    printer(model.slim_optimize())\n",
    "    model = snek.set_bounds(model,'EX_glc__D_e',-10)\n",
    "    printer(model.slim_optimize())"
   ]
  },
  {
   "cell_type": "markdown",
   "id": "d60746dd-f177-4353-8968-2becd5d18b1e",
   "metadata": {},
   "source": [
    "The same issue can arise when trying to change the objective function of a model."
   ]
  },
  {
   "cell_type": "code",
   "execution_count": 5,
   "id": "25f7f75a-9905-43c7-b395-4910d517c8ac",
   "metadata": {},
   "outputs": [
    {
     "name": "stdout",
     "output_type": "stream",
     "text": [
      " 0.87\n",
      " 0.87\n",
      "20.00\n"
     ]
    }
   ],
   "source": [
    "with model:\n",
    "    printer(model.slim_optimize())\n",
    "    model.objctive = 'EX_etoh_e'\n",
    "    # no error is raised but objective function is not updated.\n",
    "    printer(model.slim_optimize())\n",
    "    model = snek.set_objective(model,'EX_etoh_e','max')\n",
    "    printer(model.slim_optimize())"
   ]
  },
  {
   "cell_type": "markdown",
   "id": "ba7bf55e-ffa4-4670-a6de-e98d836f3a92",
   "metadata": {},
   "source": [
    "## 2. Checking for Logical Errors"
   ]
  },
  {
   "cell_type": "markdown",
   "id": "f46222f9-c973-4730-9a19-fd4c263b4bee",
   "metadata": {},
   "source": [
    "CobraPy gives the user a lot of freedom. However, here we implemented some basic checks that ensure that no logical errors are made and prints warning if this is true.\n",
    "This logical errors are sometimes intended, therefore only warnings are printed but the objective function is still updated. \n",
    "However, we think that a more verbose output can help researchers when exploring the model."
   ]
  },
  {
   "cell_type": "code",
   "execution_count": 6,
   "id": "0424bbe3-ed64-4d62-ac64-3e80d27231b7",
   "metadata": {},
   "outputs": [
    {
     "name": "stderr",
     "output_type": "stream",
     "text": [
      "WARNING:root:The objective reaction has a lower bound at 8.39 and a upper bound at 1000.00. This could lead to problems during optimization.\n"
     ]
    },
    {
     "name": "stdout",
     "output_type": "stream",
     "text": [
      " 8.39\n",
      " 8.39\n"
     ]
    }
   ],
   "source": [
    "with model:\n",
    "    model.objective = 'ATPM'\n",
    "    model.objective_direction = 'min'\n",
    "    printer(model.slim_optimize())\n",
    "    # here we try to minimize a reaction with a custom lower bound\n",
    "    # although this might be intended, it often isn't.\n",
    "    model = snek.set_objective(model,'ATPM','min')\n",
    "    printer(model.slim_optimize())"
   ]
  },
  {
   "cell_type": "markdown",
   "id": "25f3641b-5eaf-4f87-86e9-13a0e5503f62",
   "metadata": {},
   "source": [
    "When the solution status is infeasible it is still possible to programmatically extract fluxes. This can lead to confusions while coding."
   ]
  },
  {
   "cell_type": "code",
   "execution_count": 12,
   "id": "0edb87fa-d27d-4842-911e-26f6ffd5eaf4",
   "metadata": {},
   "outputs": [
    {
     "name": "stdout",
     "output_type": "stream",
     "text": [
      "infeasible\n",
      "-0.48\n"
     ]
    },
    {
     "name": "stderr",
     "output_type": "stream",
     "text": [
      "/home/users/mgotsmy/.conda/envs/2206test3.10/lib/python3.10/site-packages/cobra/util/solver.py:554: UserWarning: Solver status is 'infeasible'.\n",
      "  warn(f\"Solver status is '{status}'.\", UserWarning)\n"
     ]
    }
   ],
   "source": [
    "with model:\n",
    "    model = snek.set_bounds(model,'EX_glc__D_e',0,0)\n",
    "    solution = model.optimize()\n",
    "    print(solution.status)\n",
    "    printer(solution.fluxes['EX_glc__D_e'])"
   ]
  },
  {
   "cell_type": "markdown",
   "id": "1906e861-11ca-4560-a01e-ceda4bca763a",
   "metadata": {},
   "source": [
    "The snek optimization function checks for infeasibility and raises an error, so no confusions can happen."
   ]
  },
  {
   "cell_type": "code",
   "execution_count": 13,
   "id": "948c0267-3c9e-4d7f-8fff-3d9571d6ddd3",
   "metadata": {},
   "outputs": [
    {
     "name": "stderr",
     "output_type": "stream",
     "text": [
      "/home/users/mgotsmy/.conda/envs/2206test3.10/lib/python3.10/site-packages/cobra/util/solver.py:554: UserWarning: Solver status is 'infeasible'.\n",
      "  warn(f\"Solver status is '{status}'.\", UserWarning)\n"
     ]
    },
    {
     "ename": "ValueError",
     "evalue": "Solution is infeasible",
     "output_type": "error",
     "traceback": [
      "\u001b[0;31m---------------------------------------------------------------------------\u001b[0m",
      "\u001b[0;31mValueError\u001b[0m                                Traceback (most recent call last)",
      "Input \u001b[0;32mIn [13]\u001b[0m, in \u001b[0;36m<cell line: 1>\u001b[0;34m()\u001b[0m\n\u001b[1;32m      1\u001b[0m \u001b[38;5;28;01mwith\u001b[39;00m model:\n\u001b[1;32m      2\u001b[0m     model \u001b[38;5;241m=\u001b[39m snek\u001b[38;5;241m.\u001b[39mset_bounds(model,\u001b[38;5;124m'\u001b[39m\u001b[38;5;124mEX_glc__D_e\u001b[39m\u001b[38;5;124m'\u001b[39m,\u001b[38;5;241m0\u001b[39m,\u001b[38;5;241m0\u001b[39m)\n\u001b[0;32m----> 3\u001b[0m     solution \u001b[38;5;241m=\u001b[39m \u001b[43msnek\u001b[49m\u001b[38;5;241;43m.\u001b[39;49m\u001b[43msensitive_optimize\u001b[49m\u001b[43m(\u001b[49m\u001b[43mmodel\u001b[49m\u001b[43m)\u001b[49m\n\u001b[1;32m      4\u001b[0m     \u001b[38;5;28mprint\u001b[39m(solution\u001b[38;5;241m.\u001b[39mstatus)\n\u001b[1;32m      5\u001b[0m     printer(solution\u001b[38;5;241m.\u001b[39mfluxes[\u001b[38;5;124m'\u001b[39m\u001b[38;5;124mEX_glc__D_e\u001b[39m\u001b[38;5;124m'\u001b[39m])\n",
      "File \u001b[0;32m~/.conda/envs/2206test3.10/lib/python3.10/site-packages/snek-0.1-py3.10.egg/snek/core.py:125\u001b[0m, in \u001b[0;36msensitive_optimize\u001b[0;34m(model, pFBA)\u001b[0m\n\u001b[1;32m    123\u001b[0m     solution \u001b[38;5;241m=\u001b[39m model\u001b[38;5;241m.\u001b[39moptimize()\n\u001b[1;32m    124\u001b[0m \u001b[38;5;28;01mif\u001b[39;00m solution\u001b[38;5;241m.\u001b[39mstatus \u001b[38;5;241m==\u001b[39m \u001b[38;5;124m'\u001b[39m\u001b[38;5;124minfeasible\u001b[39m\u001b[38;5;124m'\u001b[39m:\n\u001b[0;32m--> 125\u001b[0m     \u001b[38;5;28;01mraise\u001b[39;00m \u001b[38;5;167;01mValueError\u001b[39;00m(\u001b[38;5;124m'\u001b[39m\u001b[38;5;124mSolution is infeasible\u001b[39m\u001b[38;5;124m'\u001b[39m)\n\u001b[1;32m    126\u001b[0m \u001b[38;5;28;01melse\u001b[39;00m:\n\u001b[1;32m    127\u001b[0m     \u001b[38;5;28;01mreturn\u001b[39;00m solution\n",
      "\u001b[0;31mValueError\u001b[0m: Solution is infeasible"
     ]
    }
   ],
   "source": [
    "with model:\n",
    "    model = snek.set_bounds(model,'EX_glc__D_e',0,0)\n",
    "    solution = snek.sensitive_optimize(model)\n",
    "    print(solution.status)\n",
    "    printer(solution.fluxes['EX_glc__D_e'])"
   ]
  },
  {
   "cell_type": "markdown",
   "id": "7f55df8a-9c24-4c3d-b0a6-3b3a1859d965",
   "metadata": {},
   "source": [
    "## 3. Easy Programmatic Access"
   ]
  },
  {
   "cell_type": "markdown",
   "id": "9b47b320-4cdc-44f0-a6a8-47b8471dc25a",
   "metadata": {},
   "source": [
    "Some functionalities can be set very easily by strings, however, when you want the value that was entered returned you get a programmatically hard to deal with object back."
   ]
  },
  {
   "cell_type": "code",
   "execution_count": 33,
   "id": "adf0972e-aa23-4ec7-a021-357662228bca",
   "metadata": {},
   "outputs": [
    {
     "name": "stdout",
     "output_type": "stream",
     "text": [
      "\\ENCODING=ISO-8859-1\n",
      "\\Problem name: \n",
      "\n",
      "Maximize\n",
      " baaa60b8m0678m11edmbd80m63dbbcd05b9c#0: Biomass_Ecol \n",
      "\n",
      "...\n",
      " \n",
      " 0 <= TKT2_reverse_7ebc7#187 <= 1000\n",
      " 0 <= TPI#188 <= 1000\n",
      " 0 <= TPI_reverse_c2c3b#189 <= 1000\n",
      "End\n",
      "\n"
     ]
    }
   ],
   "source": [
    "with model:\n",
    "    model.solver = 'cplex'\n",
    "    print(str(model.solver)[:100],'\\n\\n...\\n',str(model.solver)[-100:])"
   ]
  },
  {
   "cell_type": "markdown",
   "id": "f2a181b2-1bce-49ca-b79e-f5ed81a0fb17",
   "metadata": {},
   "source": [
    "compared to "
   ]
  },
  {
   "cell_type": "code",
   "execution_count": 38,
   "id": "f8a7d3ca-420e-4cfa-8ca4-f99529f14979",
   "metadata": {},
   "outputs": [
    {
     "name": "stdout",
     "output_type": "stream",
     "text": [
      "cplex\n"
     ]
    }
   ],
   "source": [
    "with model:\n",
    "    model.solver = 'cplex'\n",
    "    print(snek.get_solver(model))"
   ]
  },
  {
   "cell_type": "code",
   "execution_count": 40,
   "id": "3b61efea-5c4b-4785-970d-d73706c46322",
   "metadata": {},
   "outputs": [
    {
     "name": "stdout",
     "output_type": "stream",
     "text": [
      "1.0*Biomass_Ecoli_core - 1.0*Biomass_Ecoli_core_reverse_2cdba\n"
     ]
    }
   ],
   "source": [
    "with model:\n",
    "    model.objective = 'Biomass_Ecoli_core'\n",
    "    print(str(model.objective.expression))"
   ]
  },
  {
   "cell_type": "markdown",
   "id": "9ed942dc-a3cf-4b1d-af50-a9c6d85f9a70",
   "metadata": {},
   "source": [
    "compared to "
   ]
  },
  {
   "cell_type": "code",
   "execution_count": 41,
   "id": "418e97c4-0357-466c-b364-74bb2d1676e8",
   "metadata": {},
   "outputs": [
    {
     "name": "stdout",
     "output_type": "stream",
     "text": [
      "Biomass_Ecoli_core\n"
     ]
    }
   ],
   "source": [
    "with model:\n",
    "    model.objective = 'Biomass_Ecoli_core'\n",
    "    print(snek.get_objective(model))"
   ]
  },
  {
   "cell_type": "markdown",
   "id": "d2409654-e2b6-4581-be4b-3c834a2c0c83",
   "metadata": {},
   "source": [
    "The summary command calculates the C fluxes, however they cannot be easily programmatically accessed."
   ]
  },
  {
   "cell_type": "code",
   "execution_count": 45,
   "id": "1ca72170-c61b-4df3-a0f6-e9703e700eed",
   "metadata": {},
   "outputs": [
    {
     "data": {
      "text/html": [
       "<h3>Objective</h3><p>1.0 Biomass_Ecoli_core = 0.8739215069684301</p><h4>Uptake</h4><table border=\"1\" class=\"dataframe\">\n",
       "  <thead>\n",
       "    <tr style=\"text-align: right;\">\n",
       "      <th>Metabolite</th>\n",
       "      <th>Reaction</th>\n",
       "      <th>Flux</th>\n",
       "      <th>C-Number</th>\n",
       "      <th>C-Flux</th>\n",
       "    </tr>\n",
       "  </thead>\n",
       "  <tbody>\n",
       "    <tr>\n",
       "      <td>glc__D_e</td>\n",
       "      <td>EX_glc__D_e</td>\n",
       "      <td>10</td>\n",
       "      <td>6</td>\n",
       "      <td>100.00%</td>\n",
       "    </tr>\n",
       "    <tr>\n",
       "      <td>nh4_e</td>\n",
       "      <td>EX_nh4_e</td>\n",
       "      <td>4.765</td>\n",
       "      <td>0</td>\n",
       "      <td>0.00%</td>\n",
       "    </tr>\n",
       "    <tr>\n",
       "      <td>o2_e</td>\n",
       "      <td>EX_o2_e</td>\n",
       "      <td>21.8</td>\n",
       "      <td>0</td>\n",
       "      <td>0.00%</td>\n",
       "    </tr>\n",
       "    <tr>\n",
       "      <td>pi_e</td>\n",
       "      <td>EX_pi_e</td>\n",
       "      <td>3.215</td>\n",
       "      <td>0</td>\n",
       "      <td>0.00%</td>\n",
       "    </tr>\n",
       "  </tbody>\n",
       "</table><h4>Secretion</h4><table border=\"1\" class=\"dataframe\">\n",
       "  <thead>\n",
       "    <tr style=\"text-align: right;\">\n",
       "      <th>Metabolite</th>\n",
       "      <th>Reaction</th>\n",
       "      <th>Flux</th>\n",
       "      <th>C-Number</th>\n",
       "      <th>C-Flux</th>\n",
       "    </tr>\n",
       "  </thead>\n",
       "  <tbody>\n",
       "    <tr>\n",
       "      <td>co2_e</td>\n",
       "      <td>EX_co2_e</td>\n",
       "      <td>-22.81</td>\n",
       "      <td>1</td>\n",
       "      <td>100.00%</td>\n",
       "    </tr>\n",
       "    <tr>\n",
       "      <td>h2o_e</td>\n",
       "      <td>EX_h2o_e</td>\n",
       "      <td>-29.18</td>\n",
       "      <td>0</td>\n",
       "      <td>0.00%</td>\n",
       "    </tr>\n",
       "    <tr>\n",
       "      <td>h_e</td>\n",
       "      <td>EX_h_e</td>\n",
       "      <td>-17.53</td>\n",
       "      <td>0</td>\n",
       "      <td>0.00%</td>\n",
       "    </tr>\n",
       "  </tbody>\n",
       "</table>"
      ],
      "text/plain": [
       "<cobra.summary.model_summary.ModelSummary at 0x7fab608c3f10>"
      ]
     },
     "execution_count": 45,
     "metadata": {},
     "output_type": "execute_result"
    }
   ],
   "source": [
    "with model:\n",
    "    summary = model.summary()\n",
    "summary"
   ]
  },
  {
   "cell_type": "code",
   "execution_count": 47,
   "id": "0ac05c3c-cfc6-45a1-a302-0f5d0f93fc5e",
   "metadata": {},
   "outputs": [
    {
     "data": {
      "text/html": [
       "<div>\n",
       "<style scoped>\n",
       "    .dataframe tbody tr th:only-of-type {\n",
       "        vertical-align: middle;\n",
       "    }\n",
       "\n",
       "    .dataframe tbody tr th {\n",
       "        vertical-align: top;\n",
       "    }\n",
       "\n",
       "    .dataframe thead th {\n",
       "        text-align: right;\n",
       "    }\n",
       "</style>\n",
       "<table border=\"1\" class=\"dataframe\">\n",
       "  <thead>\n",
       "    <tr style=\"text-align: right;\">\n",
       "      <th></th>\n",
       "      <th>flux</th>\n",
       "      <th>reaction</th>\n",
       "      <th>metabolite</th>\n",
       "    </tr>\n",
       "  </thead>\n",
       "  <tbody>\n",
       "    <tr>\n",
       "      <th>EX_glc__D_e</th>\n",
       "      <td>10.000000</td>\n",
       "      <td>EX_glc__D_e</td>\n",
       "      <td>glc__D_e</td>\n",
       "    </tr>\n",
       "    <tr>\n",
       "      <th>EX_nh4_e</th>\n",
       "      <td>4.765319</td>\n",
       "      <td>EX_nh4_e</td>\n",
       "      <td>nh4_e</td>\n",
       "    </tr>\n",
       "    <tr>\n",
       "      <th>EX_o2_e</th>\n",
       "      <td>21.799493</td>\n",
       "      <td>EX_o2_e</td>\n",
       "      <td>o2_e</td>\n",
       "    </tr>\n",
       "    <tr>\n",
       "      <th>EX_pi_e</th>\n",
       "      <td>3.214895</td>\n",
       "      <td>EX_pi_e</td>\n",
       "      <td>pi_e</td>\n",
       "    </tr>\n",
       "  </tbody>\n",
       "</table>\n",
       "</div>"
      ],
      "text/plain": [
       "                  flux     reaction metabolite\n",
       "EX_glc__D_e  10.000000  EX_glc__D_e   glc__D_e\n",
       "EX_nh4_e      4.765319     EX_nh4_e      nh4_e\n",
       "EX_o2_e      21.799493      EX_o2_e       o2_e\n",
       "EX_pi_e       3.214895      EX_pi_e       pi_e"
      ]
     },
     "execution_count": 47,
     "metadata": {},
     "output_type": "execute_result"
    }
   ],
   "source": [
    "summary.uptake_flux\n",
    "# the C-flux is gone"
   ]
  },
  {
   "cell_type": "markdown",
   "id": "afee04f9-6684-4861-8627-de990c59d99f",
   "metadata": {},
   "source": [
    "With the snek.elements module the element wise fluxes can easily be accessed. Moreover, all mass non-balanced fluxes + their absolut values are included."
   ]
  },
  {
   "cell_type": "code",
   "execution_count": 48,
   "id": "854a1717-1e9c-4dc2-bbf3-552a6d07170b",
   "metadata": {},
   "outputs": [
    {
     "data": {
      "text/html": [
       "<div>\n",
       "<style scoped>\n",
       "    .dataframe tbody tr th:only-of-type {\n",
       "        vertical-align: middle;\n",
       "    }\n",
       "\n",
       "    .dataframe tbody tr th {\n",
       "        vertical-align: top;\n",
       "    }\n",
       "\n",
       "    .dataframe thead th {\n",
       "        text-align: right;\n",
       "    }\n",
       "</style>\n",
       "<table border=\"1\" class=\"dataframe\">\n",
       "  <thead>\n",
       "    <tr style=\"text-align: right;\">\n",
       "      <th></th>\n",
       "      <th>C_flux</th>\n",
       "      <th>C_flux%</th>\n",
       "    </tr>\n",
       "  </thead>\n",
       "  <tbody>\n",
       "    <tr>\n",
       "      <th>EX_glc__D_e</th>\n",
       "      <td>60.000000</td>\n",
       "      <td>100.000000</td>\n",
       "    </tr>\n",
       "    <tr>\n",
       "      <th>EX_co2_e</th>\n",
       "      <td>-22.809833</td>\n",
       "      <td>-38.016389</td>\n",
       "    </tr>\n",
       "    <tr>\n",
       "      <th>Biomass_Ecoli_core</th>\n",
       "      <td>-37.190167</td>\n",
       "      <td>-61.983611</td>\n",
       "    </tr>\n",
       "  </tbody>\n",
       "</table>\n",
       "</div>"
      ],
      "text/plain": [
       "                       C_flux     C_flux%\n",
       "EX_glc__D_e         60.000000  100.000000\n",
       "EX_co2_e           -22.809833  -38.016389\n",
       "Biomass_Ecoli_core -37.190167  -61.983611"
      ]
     },
     "execution_count": 48,
     "metadata": {},
     "output_type": "execute_result"
    }
   ],
   "source": [
    "snek.elements.element_fluxes(model,'C')"
   ]
  },
  {
   "cell_type": "markdown",
   "id": "758848d0-0924-4b9a-8a40-0d727eafc946",
   "metadata": {},
   "source": [
    "Moreover, not only C fluxes can be accessed. "
   ]
  },
  {
   "cell_type": "code",
   "execution_count": 50,
   "id": "e806c236-c990-4835-83c0-ef665a76ac60",
   "metadata": {},
   "outputs": [
    {
     "data": {
      "text/html": [
       "<div>\n",
       "<style scoped>\n",
       "    .dataframe tbody tr th:only-of-type {\n",
       "        vertical-align: middle;\n",
       "    }\n",
       "\n",
       "    .dataframe tbody tr th {\n",
       "        vertical-align: top;\n",
       "    }\n",
       "\n",
       "    .dataframe thead th {\n",
       "        text-align: right;\n",
       "    }\n",
       "</style>\n",
       "<table border=\"1\" class=\"dataframe\">\n",
       "  <thead>\n",
       "    <tr style=\"text-align: right;\">\n",
       "      <th></th>\n",
       "      <th>H_flux</th>\n",
       "      <th>H_flux%</th>\n",
       "    </tr>\n",
       "  </thead>\n",
       "  <tbody>\n",
       "    <tr>\n",
       "      <th>EX_glc__D_e</th>\n",
       "      <td>120.000000</td>\n",
       "      <td>84.343006</td>\n",
       "    </tr>\n",
       "    <tr>\n",
       "      <th>EX_nh4_e</th>\n",
       "      <td>19.061277</td>\n",
       "      <td>13.397378</td>\n",
       "    </tr>\n",
       "    <tr>\n",
       "      <th>EX_pi_e</th>\n",
       "      <td>3.214895</td>\n",
       "      <td>2.259616</td>\n",
       "    </tr>\n",
       "    <tr>\n",
       "      <th>EX_h_e</th>\n",
       "      <td>-17.530865</td>\n",
       "      <td>-12.321716</td>\n",
       "    </tr>\n",
       "    <tr>\n",
       "      <th>EX_h2o_e</th>\n",
       "      <td>-58.351654</td>\n",
       "      <td>-41.012949</td>\n",
       "    </tr>\n",
       "    <tr>\n",
       "      <th>Biomass_Ecoli_core</th>\n",
       "      <td>-66.393652</td>\n",
       "      <td>-46.665335</td>\n",
       "    </tr>\n",
       "  </tbody>\n",
       "</table>\n",
       "</div>"
      ],
      "text/plain": [
       "                        H_flux    H_flux%\n",
       "EX_glc__D_e         120.000000  84.343006\n",
       "EX_nh4_e             19.061277  13.397378\n",
       "EX_pi_e               3.214895   2.259616\n",
       "EX_h_e              -17.530865 -12.321716\n",
       "EX_h2o_e            -58.351654 -41.012949\n",
       "Biomass_Ecoli_core  -66.393652 -46.665335"
      ]
     },
     "execution_count": 50,
     "metadata": {},
     "output_type": "execute_result"
    }
   ],
   "source": [
    "snek.elements.element_fluxes(model,'H')"
   ]
  },
  {
   "cell_type": "code",
   "execution_count": null,
   "id": "e62bc8c5-50b8-4aaa-991a-acada973ee7d",
   "metadata": {},
   "outputs": [],
   "source": []
  }
 ],
 "metadata": {
  "kernelspec": {
   "display_name": "2206test3.10",
   "language": "python",
   "name": "2206test3.10"
  },
  "language_info": {
   "codemirror_mode": {
    "name": "ipython",
    "version": 3
   },
   "file_extension": ".py",
   "mimetype": "text/x-python",
   "name": "python",
   "nbconvert_exporter": "python",
   "pygments_lexer": "ipython3",
   "version": "3.10.4"
  },
  "toc-autonumbering": false
 },
 "nbformat": 4,
 "nbformat_minor": 5
}
