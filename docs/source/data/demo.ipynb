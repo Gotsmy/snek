{
 "cells": [
  {
   "cell_type": "markdown",
   "id": "d2d8e5f7-4520-4101-bd91-24d430fb26e8",
   "metadata": {
    "tags": []
   },
   "source": [
    "# Snek Demo"
   ]
  },
  {
   "cell_type": "markdown",
   "id": "89e2b8f3-5826-4153-882b-d698a57f7cfe",
   "metadata": {},
   "source": [
    "Snek is developed to improve upon the original cobra package by making it easier to access and less prone for unintended errors."
   ]
  },
  {
   "cell_type": "code",
   "execution_count": 1,
   "id": "78f4d399-f68b-46b3-a4e1-3fed712f400a",
   "metadata": {},
   "outputs": [],
   "source": [
    "import cobra \n",
    "import snek\n",
    "model = cobra.io.load_model('textbook')"
   ]
  },
  {
   "cell_type": "markdown",
   "id": "7a76fec3-c82c-4a54-9fa7-5ebf83372e0a",
   "metadata": {},
   "source": [
    "## 1. Ensure Correct Spelling"
   ]
  },
  {
   "cell_type": "markdown",
   "id": "bacdc1cd-da5e-47a9-8b09-8385004c5fc5",
   "metadata": {},
   "source": [
    "When setting bounds of a reaction or the objective function with the main CobraPy package, no error is raised when a spelling error occurs."
   ]
  },
  {
   "cell_type": "code",
   "execution_count": 2,
   "id": "3b3d1aa2-462c-4fc3-9f40-4adbc85833f3",
   "metadata": {},
   "outputs": [
    {
     "name": "stdout",
     "output_type": "stream",
     "text": [
      " 0.42\n",
      " 0.42\n"
     ]
    }
   ],
   "source": [
    "with model:\n",
    "    model.reactions.EX_glc__D_e.lower_bound = -5\n",
    "    print('{:5.2f}'.format(model.slim_optimize()))\n",
    "    model.reactions.EX_glc__D_e.lower_buond = -10\n",
    "    # no error is raised but bound is not updated.\n",
    "    print('{:5.2f}'.format(model.slim_optimize()))"
   ]
  },
  {
   "cell_type": "markdown",
   "id": "966f0f4a-a3ba-48e5-8eb6-8d11377aceb5",
   "metadata": {},
   "source": [
    "This can happen frequently and is hard to debug. Also, the officially recommended way of setting exchange bounds needs 3 lines instead of 1."
   ]
  },
  {
   "cell_type": "code",
   "execution_count": 3,
   "id": "e05bf26b-c6d2-4e5b-8e22-ab59ca4fd0c9",
   "metadata": {},
   "outputs": [
    {
     "name": "stdout",
     "output_type": "stream",
     "text": [
      " 0.42\n",
      " 0.87\n"
     ]
    }
   ],
   "source": [
    "with model:\n",
    "    medium = model.medium\n",
    "    medium[\"EX_glc__D_e\"] = 5\n",
    "    model.medium = medium\n",
    "    print('{:5.2f}'.format(model.slim_optimize()))\n",
    "    medium[\"EX_glc__D_e\"] = 10\n",
    "    model.medium = medium\n",
    "    print('{:5.2f}'.format(model.slim_optimize()))"
   ]
  },
  {
   "cell_type": "markdown",
   "id": "c663e848-8861-4c2f-bc3a-6f079559fd59",
   "metadata": {},
   "source": [
    "The following snek.core functions ensure correct spelling and are still one-liners for efficient coding."
   ]
  },
  {
   "cell_type": "code",
   "execution_count": 4,
   "id": "24f5b099-5dbb-4691-b2f2-40a7fe31379d",
   "metadata": {},
   "outputs": [
    {
     "name": "stdout",
     "output_type": "stream",
     "text": [
      " 0.42\n",
      " 0.87\n"
     ]
    }
   ],
   "source": [
    "with model:\n",
    "    model = snek.set_bounds(model,'EX_glc__D_e',-5)\n",
    "    print('{:5.2f}'.format(model.slim_optimize()))\n",
    "    model = snek.set_bounds(model,'EX_glc__D_e',-10)\n",
    "    print('{:5.2f}'.format(model.slim_optimize()))"
   ]
  },
  {
   "cell_type": "markdown",
   "id": "d60746dd-f177-4353-8968-2becd5d18b1e",
   "metadata": {},
   "source": [
    "The same issue can arise when trying to change the objective function of a model."
   ]
  },
  {
   "cell_type": "code",
   "execution_count": 5,
   "id": "25f7f75a-9905-43c7-b395-4910d517c8ac",
   "metadata": {},
   "outputs": [
    {
     "name": "stdout",
     "output_type": "stream",
     "text": [
      " 0.87\n",
      " 0.87\n",
      "20.00\n"
     ]
    }
   ],
   "source": [
    "with model:\n",
    "    print('{:5.2f}'.format(model.slim_optimize()))\n",
    "    model.objctive = 'EX_etoh_e'\n",
    "    # no error is raised but objective function is not updated.\n",
    "    print('{:5.2f}'.format(model.slim_optimize()))\n",
    "    model = snek.set_objective(model,'EX_etoh_e','max')\n",
    "    print('{:5.2f}'.format(model.slim_optimize()))"
   ]
  },
  {
   "cell_type": "markdown",
   "id": "ba7bf55e-ffa4-4670-a6de-e98d836f3a92",
   "metadata": {},
   "source": [
    "## 2. Checking for Logical Errors"
   ]
  },
  {
   "cell_type": "markdown",
   "id": "f46222f9-c973-4730-9a19-fd4c263b4bee",
   "metadata": {},
   "source": [
    "CobraPy gives the user a lot of freedom. However, here we implemented some basic checks that ensure that no logical errors are made and prints warning if this is true.\n",
    "This logical errors are sometimes intended, therefore only warnings are printed, however, we think that a more verbose output can help researchers when exploring the model."
   ]
  },
  {
   "cell_type": "code",
   "execution_count": 6,
   "id": "0424bbe3-ed64-4d62-ac64-3e80d27231b7",
   "metadata": {},
   "outputs": [
    {
     "name": "stdout",
     "output_type": "stream",
     "text": [
      " 8.39\n",
      " 8.39\n"
     ]
    },
    {
     "name": "stderr",
     "output_type": "stream",
     "text": [
      "/home/users/mgotsmy/.conda/envs/2206test3.10/lib/python3.10/site-packages/snek-0.1-py3.10.egg/snek/core.py:43: UserWarning: The objective reaction has a lower bound at 8.39 and a upper bound at 1000.00. This could lead to problems during optimization.\n",
      "  warnings.warn('The objective reaction has a lower bound at {:.2f} and a upper bound at {:.2f}. This could lead to problems during optimization.'.format(model.reactions.get_by_id(reaction).lower_bound,model.reactions.get_by_id(reaction).upper_bound))\n"
     ]
    }
   ],
   "source": [
    "with model:\n",
    "    model.objective = 'ATPM'\n",
    "    model.objective_direction = 'min'\n",
    "    print('{:5.2f}'.format(model.slim_optimize()))\n",
    "    # here we try to minimize a reaction with a custom lower bound\n",
    "    # although this might be intended, it often isn't.\n",
    "    model = snek.set_objective(model,'ATPM','min')\n",
    "    print('{:5.2f}'.format(model.slim_optimize()))"
   ]
  },
  {
   "cell_type": "code",
   "execution_count": 9,
   "id": "0edb87fa-d27d-4842-911e-26f6ffd5eaf4",
   "metadata": {},
   "outputs": [
    {
     "name": "stdout",
     "output_type": "stream",
     "text": [
      " 8.39\n",
      " 8.39\n"
     ]
    }
   ],
   "source": [
    "with model:\n",
    "    model.objective = 'ATPM'\n",
    "    model.objective_direction = 'min'\n",
    "    print('{:5.2f}'.format(model.slim_optimize()))\n",
    "    # here we try to minimize a reaction with a custom lower bound\n",
    "    # although this might be intended, it often isn't.\n",
    "    model = snek.set_objective(model,'ATPM','min')\n",
    "    print('{:5.2f}'.format(model.slim_optimize()))"
   ]
  },
  {
   "cell_type": "code",
   "execution_count": null,
   "id": "17cbfd9b-d333-4e75-8116-4ee5bc81dec2",
   "metadata": {},
   "outputs": [],
   "source": []
  }
 ],
 "metadata": {
  "kernelspec": {
   "display_name": "2206test3.10",
   "language": "python",
   "name": "2206test3.10"
  },
  "language_info": {
   "codemirror_mode": {
    "name": "ipython",
    "version": 3
   },
   "file_extension": ".py",
   "mimetype": "text/x-python",
   "name": "python",
   "nbconvert_exporter": "python",
   "pygments_lexer": "ipython3",
   "version": "3.10.4"
  },
  "toc-autonumbering": false
 },
 "nbformat": 4,
 "nbformat_minor": 5
}
